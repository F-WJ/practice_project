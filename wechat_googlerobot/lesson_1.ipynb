{
 "cells": [
  {
   "cell_type": "markdown",
   "metadata": {},
   "source": [
    "### 导入所需库"
   ]
  },
  {
   "cell_type": "code",
   "execution_count": null,
   "metadata": {},
   "outputs": [],
   "source": [
    "import time, datetime, requests, itchat\n",
    "from itchat.content import *"
   ]
  },
  {
   "cell_type": "markdown",
   "metadata": {},
   "source": [
    "### 扫码登录"
   ]
  },
  {
   "cell_type": "code",
   "execution_count": null,
   "metadata": {},
   "outputs": [],
   "source": [
    "itchat.auto_login(hotReload=True)# 即使程序关闭，在一定时间内重新登录不用扫码(不知道是google cloud问题，还是itchat问题，经常不能生成二维码图片)"
   ]
  },
  {
   "cell_type": "code",
   "execution_count": null,
   "metadata": {},
   "outputs": [],
   "source": [
    "# 获取自己的用户信息\n",
    "friend = itchat.search_friends()\n",
    "print(friend)"
   ]
  },
  {
   "cell_type": "code",
   "execution_count": null,
   "metadata": {},
   "outputs": [],
   "source": [
    "print('NickName : %s' % friend['NickName'])\n",
    "print('Alias A-ID: %s' % friend['Alias'])  # ID号（不能修改）\n",
    "print('RemarName: %s' % friend['RemarkName']) # 备注名\n",
    "print('UserName: %s' % friend['UserName'])"
   ]
  },
  {
   "cell_type": "code",
   "execution_count": null,
   "metadata": {},
   "outputs": [],
   "source": [
    "# 获取对应用户\n",
    "friend = itchat.search_friends(name=u'wind')\n",
    "print(friend)"
   ]
  },
  {
   "cell_type": "code",
   "execution_count": null,
   "metadata": {},
   "outputs": [],
   "source": [
    "for i in  range(0, len(friend)):\n",
    "  print('NickName: %s' % friend[i]['NickName'])\n",
    "  print('Alias A-ID: %s' % friend[i]['Alias'])\n",
    "  print('RemarkName: %s' % friend[i]['RemarkName'])\n",
    "  print('UserName: %s' % friend[i]['UserName'])"
   ]
  },
  {
   "cell_type": "markdown",
   "metadata": {},
   "source": [
    "### 发送信息（文字、图片、文件、音频、视频等）"
   ]
  },
  {
   "cell_type": "code",
   "execution_count": null,
   "metadata": {},
   "outputs": [],
   "source": [
    "# 文字\n",
    "reply = itchat.send(u'扑街 \\n 发送时间:\\n{:%Y-%b-%d %H:%M:%S}'.format(datetime.datetime.now()), friend[0]['UserName'])\n",
    "print(reply['BaseResponse']['ErrMsg'])"
   ]
  },
  {
   "cell_type": "code",
   "execution_count": null,
   "metadata": {},
   "outputs": [],
   "source": [
    "## 图片\n",
    "reply = itchat.send_image('./images/2.jpg', friend[0]['UserName'])\n",
    "print(reply['BaseResponse']['ErrMsg'])\n",
    "print(reply)\n",
    "get_ipython().system('pwd') "
   ]
  },
  {
   "cell_type": "code",
   "execution_count": null,
   "metadata": {},
   "outputs": [],
   "source": [
    "# 文件\n",
    "reply = itchat.send_file('./test.ipynb', friend[0]['UserName']) \n",
    "print(reply['BaseResponse']['ErrMsg'])"
   ]
  },
  {
   "cell_type": "code",
   "execution_count": null,
   "metadata": {},
   "outputs": [],
   "source": [
    "# 音频\n",
    "reply = itchat.send_file('./test.mp3', friend[0]['UserName'])\n",
    "print(reply['BaseResponse']['ErrMsg'])"
   ]
  },
  {
   "cell_type": "code",
   "execution_count": null,
   "metadata": {},
   "outputs": [],
   "source": [
    "reply = itchat.send_video('./test.mp4', friend[0]['UserName'])\n",
    "print(reply['BaseResponse']['ErrMsg'])"
   ]
  },
  {
   "cell_type": "markdown",
   "metadata": {},
   "source": [
    "### 接收信息"
   ]
  },
  {
   "cell_type": "code",
   "execution_count": null,
   "metadata": {},
   "outputs": [],
   "source": [
    "# @itchat.msg_register(itchat.content.TEXT)\n",
    "# def text_reply(msg):\n",
    "#   print(msg['Text'])"
   ]
  },
  {
   "cell_type": "code",
   "execution_count": null,
   "metadata": {},
   "outputs": [],
   "source": [
    "# itchat.run()"
   ]
  },
  {
   "cell_type": "markdown",
   "metadata": {},
   "source": [
    "### 回复信息"
   ]
  },
  {
   "cell_type": "code",
   "execution_count": null,
   "metadata": {},
   "outputs": [],
   "source": [
    "itchat.auto_login(hotReload=True)"
   ]
  },
  {
   "cell_type": "code",
   "execution_count": null,
   "metadata": {},
   "outputs": [],
   "source": [
    "@itchat.msg_register(itchat.content.TEXT)\n",
    "def text_reply(msg):\n",
    "  print(msg['Text'])\n",
    "  return u'收到'"
   ]
  },
  {
   "cell_type": "code",
   "execution_count": null,
   "metadata": {},
   "outputs": [],
   "source": [
    "itchat.run()"
   ]
  }
 ],
 "metadata": {
  "kernelspec": {
   "display_name": "Python 2",
   "language": "python",
   "name": "python2"
  },
  "language_info": {
   "codemirror_mode": {
    "name": "ipython",
    "version": 2
   },
   "file_extension": ".py",
   "mimetype": "text/x-python",
   "name": "python",
   "nbconvert_exporter": "python",
   "pygments_lexer": "ipython2",
   "version": "2.7.15"
  }
 },
 "nbformat": 4,
 "nbformat_minor": 2
}
